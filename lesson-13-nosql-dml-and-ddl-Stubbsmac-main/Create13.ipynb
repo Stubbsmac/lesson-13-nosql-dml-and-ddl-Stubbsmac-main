{
 "cells": [
  {
   "cell_type": "markdown",
   "metadata": {},
   "source": [
    "# **DML & DDL Operations in MongoDB**\n",
    "\n",
    "This notebook will walk you through the process of creating MongoDB databases and collections. You will also be guided through inserting, updating, and deleting documents.\n",
    "\n",
    "Before we begin, we will need to import out libraries and setup and object for our client:"
   ]
  },
  {
   "cell_type": "code",
   "execution_count": 43,
   "metadata": {
    "dotnet_interactive": {
     "language": "csharp"
    },
    "polyglot_notebook": {
     "kernelName": "csharp"
    }
   },
   "outputs": [],
   "source": [
    "# Import Libraries\n",
    "from pymongo import MongoClient\n",
    "import json\n",
    "\n",
    "# Setup Client\n",
    "client = MongoClient('mongodb://localhost:27017')"
   ]
  },
  {
   "cell_type": "markdown",
   "metadata": {},
   "source": [
    "### **Creating Databases & Collections**\n",
    "Now that we have setup our prerequisites, we can begin adding databases to our server. Thanks to the Python wrapper that we are using, it is very straightforward to create a database in MongoDB. All that we need to do is use our client object, and reference the database that we want to create as a string."
   ]
  },
  {
   "cell_type": "code",
   "execution_count": 2,
   "metadata": {
    "dotnet_interactive": {
     "language": "csharp"
    },
    "polyglot_notebook": {
     "kernelName": "csharp"
    }
   },
   "outputs": [],
   "source": [
    "# Create new database named library\n",
    "db = client['library']"
   ]
  },
  {
   "cell_type": "markdown",
   "metadata": {},
   "source": [
    "After running the above cell, you will have a new database named library on your server. To see all of the databases on a server, you can use the list_database_names() function of our client object. After getting all names, we can loop through them to display each database name."
   ]
  },
  {
   "cell_type": "code",
   "execution_count": 3,
   "metadata": {
    "dotnet_interactive": {
     "language": "csharp"
    },
    "polyglot_notebook": {
     "kernelName": "csharp"
    }
   },
   "outputs": [
    {
     "name": "stdout",
     "output_type": "stream",
     "text": [
      "admin\n",
      "config\n",
      "local\n"
     ]
    }
   ],
   "source": [
    "# Show all database names on server\n",
    "databases = client.list_database_names()\n",
    "\n",
    "for db in databases:\n",
    "    print(db)"
   ]
  },
  {
   "cell_type": "markdown",
   "metadata": {},
   "source": [
    "Notice that we do not see the name of the library database that we created. This is because that database is empty. Before the database will appear, we must add at least one collection and document to the database.\n",
    "\n",
    "In the below cell, we add a collection named media to the database."
   ]
  },
  {
   "cell_type": "code",
   "execution_count": 4,
   "metadata": {
    "dotnet_interactive": {
     "language": "csharp"
    },
    "polyglot_notebook": {
     "kernelName": "csharp"
    }
   },
   "outputs": [],
   "source": [
    "# Specify the database we are accessing\n",
    "db = client['library']\n",
    "\n",
    "# Add a collection to the library database\n",
    "collection = db['media']"
   ]
  },
  {
   "cell_type": "markdown",
   "metadata": {},
   "source": [
    "Now that we have a collection to work with, we can add our first document to the database. The best way to do this with the Python wrapper is to store the information for the document in a dictionary, and then pass that dictionary to the insert_one() function of our client object. The document we are going to insert has two attributes: title and author."
   ]
  },
  {
   "cell_type": "code",
   "execution_count": 5,
   "metadata": {
    "dotnet_interactive": {
     "language": "csharp"
    },
    "polyglot_notebook": {
     "kernelName": "csharp"
    }
   },
   "outputs": [
    {
     "data": {
      "text/plain": [
       "InsertOneResult(ObjectId('673bce12cc4959801d24720a'), acknowledged=True)"
      ]
     },
     "execution_count": 5,
     "metadata": {},
     "output_type": "execute_result"
    }
   ],
   "source": [
    "# Add a document to the media collection\n",
    "# Save the data for the document in a Python dictionary\n",
    "document = {\n",
    "    'title': 'The Hunger Games',\n",
    "    'author': 'Suzanne Collins'\n",
    "}\n",
    "\n",
    "# Use insert_one to add the document to the collection\n",
    "collection.insert_one(document)"
   ]
  },
  {
   "cell_type": "markdown",
   "metadata": {},
   "source": [
    "Now that we have added a document to the library database, it will appear when we list out our databases. Let's run the cell from before again."
   ]
  },
  {
   "cell_type": "code",
   "execution_count": 6,
   "metadata": {
    "dotnet_interactive": {
     "language": "csharp"
    },
    "polyglot_notebook": {
     "kernelName": "csharp"
    }
   },
   "outputs": [
    {
     "name": "stdout",
     "output_type": "stream",
     "text": [
      "admin\n",
      "config\n",
      "library\n",
      "local\n"
     ]
    }
   ],
   "source": [
    "# Show all database names on server\n",
    "databases = client.list_database_names()\n",
    "\n",
    "for db in databases:\n",
    "    print(db)"
   ]
  },
  {
   "cell_type": "markdown",
   "metadata": {},
   "source": [
    "### **Inserting Documents**\n",
    "We demonstrated in the previous section that you can use insert_one to insert a document into a collection. Due to the nature of NoSQL databases, documents *do not* have to be of the same structure in a collection. If we want to add another document to the media collection, it does not have to match the previous one exactly. For instance, we will add an audio book to the media table that has different properties than the book we added before:"
   ]
  },
  {
   "cell_type": "code",
   "execution_count": 7,
   "metadata": {
    "dotnet_interactive": {
     "language": "csharp"
    },
    "polyglot_notebook": {
     "kernelName": "csharp"
    }
   },
   "outputs": [
    {
     "data": {
      "text/plain": [
       "InsertOneResult(ObjectId('673bceb8cc4959801d24720b'), acknowledged=True)"
      ]
     },
     "execution_count": 7,
     "metadata": {},
     "output_type": "execute_result"
    }
   ],
   "source": [
    "# Add an audio book to the media collection\n",
    "# Store data in a Python dictionary\n",
    "document = {\n",
    "    'format': 'Audio Book',\n",
    "    'title': 'The Hunger Games',\n",
    "    'author': 'Suzanne Collins',\n",
    "    'narrator': 'Carolyn McCormick'\n",
    "}\n",
    "\n",
    "# Insert the document into the media collection\n",
    "collection.insert_one(document)"
   ]
  },
  {
   "cell_type": "markdown",
   "metadata": {},
   "source": [
    "This flexibility in structure is one of the main advantages of a NoSQL data structure. We are able to store data together, even if it does not align structurally. The above document contains two attributes that our first document did not, but it does not compromise the integrity of the database. If we retrieve all of the documents in our media collection, we can see the differences side by side."
   ]
  },
  {
   "cell_type": "code",
   "execution_count": 8,
   "metadata": {
    "dotnet_interactive": {
     "language": "csharp"
    },
    "polyglot_notebook": {
     "kernelName": "csharp"
    }
   },
   "outputs": [
    {
     "name": "stdout",
     "output_type": "stream",
     "text": [
      "{\n",
      "    \"_id\": \"673bce12cc4959801d24720a\",\n",
      "    \"title\": \"The Hunger Games\",\n",
      "    \"author\": \"Suzanne Collins\"\n",
      "}\n",
      "{\n",
      "    \"_id\": \"673bceb8cc4959801d24720b\",\n",
      "    \"format\": \"Audio Book\",\n",
      "    \"title\": \"The Hunger Games\",\n",
      "    \"author\": \"Suzanne Collins\",\n",
      "    \"narrator\": \"Carolyn McCormick\"\n",
      "}\n"
     ]
    }
   ],
   "source": [
    "# Retrieve all documents from the media collection\n",
    "result = collection.find()\n",
    "\n",
    "for document in result: \n",
    "    print(json.dumps(document, indent=4, default=str)) "
   ]
  },
  {
   "cell_type": "markdown",
   "metadata": {},
   "source": [
    "Something else that you may notice is that MongoDB automatically generates a unique _id value for each document if we do not supply one. If we want to have control over the _id value, we can include it in our Python dictionary."
   ]
  },
  {
   "cell_type": "code",
   "execution_count": 9,
   "metadata": {
    "dotnet_interactive": {
     "language": "csharp"
    },
    "polyglot_notebook": {
     "kernelName": "csharp"
    }
   },
   "outputs": [
    {
     "name": "stdout",
     "output_type": "stream",
     "text": [
      "{\n",
      "    \"_id\": \"673bce12cc4959801d24720a\",\n",
      "    \"title\": \"The Hunger Games\",\n",
      "    \"author\": \"Suzanne Collins\"\n",
      "}\n",
      "{\n",
      "    \"_id\": \"673bceb8cc4959801d24720b\",\n",
      "    \"format\": \"Audio Book\",\n",
      "    \"title\": \"The Hunger Games\",\n",
      "    \"author\": \"Suzanne Collins\",\n",
      "    \"narrator\": \"Carolyn McCormick\"\n",
      "}\n",
      "{\n",
      "    \"_id\": \"med003\",\n",
      "    \"title\": \"Catching Fire\",\n",
      "    \"author\": \"Suzanne Collins\",\n",
      "    \"format\": \"Book\"\n",
      "}\n"
     ]
    }
   ],
   "source": [
    "# Add a document to the media collection with a custom ID\n",
    "document = {\n",
    "    '_id': 'med003',\n",
    "    'title': 'Catching Fire',\n",
    "    'author': 'Suzanne Collins',\n",
    "    'format': 'Book' # The order that we put attributes in does not matter, however it is best practice to be consistent\n",
    "}\n",
    "\n",
    "collection.insert_one(document)\n",
    "\n",
    "# View the newly inserted document in the collection\n",
    "result = collection.find()\n",
    "\n",
    "for document in result: \n",
    "    print(json.dumps(document, indent=4, default=str)) "
   ]
  },
  {
   "cell_type": "markdown",
   "metadata": {},
   "source": [
    "Using the Python wrapper, it is also easy to insert multiple documents into a collection at the same time. To do this we are going to create several documents, and then store them all in a python *list* using [square brackets]. Once we have put all of our documents into a single list object, we can pass that list into the insert_many() function of our collection object."
   ]
  },
  {
   "cell_type": "code",
   "execution_count": 10,
   "metadata": {
    "dotnet_interactive": {
     "language": "csharp"
    },
    "polyglot_notebook": {
     "kernelName": "csharp"
    }
   },
   "outputs": [
    {
     "data": {
      "text/plain": [
       "InsertManyResult([ObjectId('673bcf10cc4959801d24720c'), ObjectId('673bcf10cc4959801d24720d'), ObjectId('673bcf10cc4959801d24720e')], acknowledged=True)"
      ]
     },
     "execution_count": 10,
     "metadata": {},
     "output_type": "execute_result"
    }
   ],
   "source": [
    "# Create a dictionary to hold the first document\n",
    "document_1 = {\n",
    "    \"format\": \"Book\",\n",
    "    \"title\": \"Carry On\",\n",
    "    \"author\": \"Rainbow Rowell\"\n",
    "}\n",
    "\n",
    "# Create a dictionary to hold the second document\n",
    "document_2 = {\n",
    "    \"format\": \"Book\",\n",
    "    \"title\": \"Inheritance Games\",\n",
    "    \"author\": \"Jennifer Lynn Barnes\"\n",
    "}\n",
    "\n",
    "# Create a dictionary to hold the third document\n",
    "document_3 = {\n",
    "    \"format\": \"Audio Book\",\n",
    "    \"title\": \"The Lightning Thief\",\n",
    "    \"author\": \"Rick Riordan\",\n",
    "    \"narrator\": \"Jesse Bernstein\"\n",
    "}\n",
    "\n",
    "# Use [] to store documents in a list\n",
    "doc_list = [document_1,document_2,document_3]\n",
    "\n",
    "# Use insert_many to add the documents to the media collection\n",
    "collection.insert_many(doc_list)"
   ]
  },
  {
   "cell_type": "markdown",
   "metadata": {},
   "source": [
    "Now that the operation is complete, let's view the contents of the collection to verify the insertion:"
   ]
  },
  {
   "cell_type": "code",
   "execution_count": 11,
   "metadata": {
    "dotnet_interactive": {
     "language": "csharp"
    },
    "polyglot_notebook": {
     "kernelName": "csharp"
    }
   },
   "outputs": [
    {
     "name": "stdout",
     "output_type": "stream",
     "text": [
      "{\n",
      "    \"_id\": \"673bce12cc4959801d24720a\",\n",
      "    \"title\": \"The Hunger Games\",\n",
      "    \"author\": \"Suzanne Collins\"\n",
      "}\n",
      "{\n",
      "    \"_id\": \"673bceb8cc4959801d24720b\",\n",
      "    \"format\": \"Audio Book\",\n",
      "    \"title\": \"The Hunger Games\",\n",
      "    \"author\": \"Suzanne Collins\",\n",
      "    \"narrator\": \"Carolyn McCormick\"\n",
      "}\n",
      "{\n",
      "    \"_id\": \"med003\",\n",
      "    \"title\": \"Catching Fire\",\n",
      "    \"author\": \"Suzanne Collins\",\n",
      "    \"format\": \"Book\"\n",
      "}\n",
      "{\n",
      "    \"_id\": \"673bcf10cc4959801d24720c\",\n",
      "    \"format\": \"Book\",\n",
      "    \"title\": \"Carry On\",\n",
      "    \"author\": \"Rainbow Rowell\"\n",
      "}\n",
      "{\n",
      "    \"_id\": \"673bcf10cc4959801d24720d\",\n",
      "    \"format\": \"Book\",\n",
      "    \"title\": \"Inheritance Games\",\n",
      "    \"author\": \"Jennifer Lynn Barnes\"\n",
      "}\n",
      "{\n",
      "    \"_id\": \"673bcf10cc4959801d24720e\",\n",
      "    \"format\": \"Audio Book\",\n",
      "    \"title\": \"The Lightning Thief\",\n",
      "    \"author\": \"Rick Riordan\",\n",
      "    \"narrator\": \"Jesse Bernstein\"\n",
      "}\n"
     ]
    }
   ],
   "source": [
    "# View all media in the media collection\n",
    "result = collection.find()\n",
    "\n",
    "for document in result: \n",
    "    print(json.dumps(document, indent=4, default=str)) "
   ]
  },
  {
   "cell_type": "markdown",
   "metadata": {},
   "source": [
    "### **Updating and Deleting Documents**\n",
    "\n",
    "Just like in SQL, we can use DML to update and delete existing data in our MongoDB Databases. We have two functions that can update data. update_one() and update_many(). In the below cell we will update a single record, update multiple records that match a criteria, and update all records. Regardless of the type of update, you must use the $set operator to inform the database that you are performing an update. The way we do this is similar to how we used $gt in the previous lesson. First we create a key-value pair with the attribute and data that we want to assign, and then we use that key-value pair as the value in a second key-value pair, where the key is $set. So, it will look something like this:\n",
    "\n",
    "{'$set': {'attribute_name': 'data'}}\n",
    "\n",
    "Update operations have two arguments\n",
    "* Criteria - key-value pair(s) indicating what documents to update\n",
    "* Set- $set argument telling the database the new values\n",
    "\n",
    "To update a single record, we can use the update_one() function. This function only updates the first document in a collection that matches the provided criteria. If no criteria is provided then the function updates the first document in a collection. In our collection, The Hunger Games is the first document. Let's update the document to have a format value like the later records."
   ]
  },
  {
   "cell_type": "code",
   "execution_count": 12,
   "metadata": {
    "dotnet_interactive": {
     "language": "csharp"
    },
    "polyglot_notebook": {
     "kernelName": "csharp"
    }
   },
   "outputs": [
    {
     "data": {
      "text/plain": [
       "UpdateResult({'n': 1, 'nModified': 1, 'ok': 1.0, 'updatedExisting': True}, acknowledged=True)"
      ]
     },
     "execution_count": 12,
     "metadata": {},
     "output_type": "execute_result"
    }
   ],
   "source": [
    "# Use update_one() to add a new property to the first document in a collection\n",
    "\n",
    "# You must assign some criteria when updating, this is the first argument in update_one(). If you do not want criteria then you can use empty {} like below.\n",
    "collection.update_one({},{'$set': {'format': 'Book'}})"
   ]
  },
  {
   "cell_type": "code",
   "execution_count": 13,
   "metadata": {
    "dotnet_interactive": {
     "language": "csharp"
    },
    "polyglot_notebook": {
     "kernelName": "csharp"
    }
   },
   "outputs": [
    {
     "name": "stdout",
     "output_type": "stream",
     "text": [
      "{\n",
      "    \"_id\": \"673bce12cc4959801d24720a\",\n",
      "    \"title\": \"The Hunger Games\",\n",
      "    \"author\": \"Suzanne Collins\",\n",
      "    \"format\": \"Book\"\n",
      "}\n",
      "{\n",
      "    \"_id\": \"673bceb8cc4959801d24720b\",\n",
      "    \"format\": \"Audio Book\",\n",
      "    \"title\": \"The Hunger Games\",\n",
      "    \"author\": \"Suzanne Collins\",\n",
      "    \"narrator\": \"Carolyn McCormick\"\n",
      "}\n",
      "{\n",
      "    \"_id\": \"med003\",\n",
      "    \"title\": \"Catching Fire\",\n",
      "    \"author\": \"Suzanne Collins\",\n",
      "    \"format\": \"Book\"\n",
      "}\n",
      "{\n",
      "    \"_id\": \"673bcf10cc4959801d24720c\",\n",
      "    \"format\": \"Book\",\n",
      "    \"title\": \"Carry On\",\n",
      "    \"author\": \"Rainbow Rowell\"\n",
      "}\n",
      "{\n",
      "    \"_id\": \"673bcf10cc4959801d24720d\",\n",
      "    \"format\": \"Book\",\n",
      "    \"title\": \"Inheritance Games\",\n",
      "    \"author\": \"Jennifer Lynn Barnes\"\n",
      "}\n",
      "{\n",
      "    \"_id\": \"673bcf10cc4959801d24720e\",\n",
      "    \"format\": \"Audio Book\",\n",
      "    \"title\": \"The Lightning Thief\",\n",
      "    \"author\": \"Rick Riordan\",\n",
      "    \"narrator\": \"Jesse Bernstein\"\n",
      "}\n"
     ]
    }
   ],
   "source": [
    "# View documents to verify changes\n",
    "result = collection.find()\n",
    "\n",
    "for document in result: \n",
    "    print(json.dumps(document, indent=4, default=str)) "
   ]
  },
  {
   "cell_type": "markdown",
   "metadata": {},
   "source": [
    "Remember, because MongoDB is schemaless, we are able to add properties on the fly. This is what makes NoSQL a strong choice for data that has a lot of variety or doesn't fit well into a rigid structure.\n",
    "\n",
    "The update_one() command is fairly niche in it's use. Most of the time you will be using an update_many() to update all of the documents that match a given criteria. However, when you are using criteria like an _id that is guaranteed to only return one value, it can be more resource efficient to use update_one or find_one respectively. NoSQL is all about producing results as quickly as possible, so the tools reflect that.\n",
    "\n",
    "The syntax for update_many() is the same as update_one(). We must provide both a criteria and a set argument. In the below cell we are going to update all documents in the media collection to add a new property indicating whether or not they are available for checkout."
   ]
  },
  {
   "cell_type": "code",
   "execution_count": 14,
   "metadata": {
    "dotnet_interactive": {
     "language": "csharp"
    },
    "polyglot_notebook": {
     "kernelName": "csharp"
    }
   },
   "outputs": [
    {
     "data": {
      "text/plain": [
       "UpdateResult({'n': 6, 'nModified': 6, 'ok': 1.0, 'updatedExisting': True}, acknowledged=True)"
      ]
     },
     "execution_count": 14,
     "metadata": {},
     "output_type": "execute_result"
    }
   ],
   "source": [
    "# Update all documents to add status property\n",
    "\n",
    "# We are once again passing in empty criteria so that we effect all records\n",
    "collection.update_many({},{'$set': {'status': 'available'}})"
   ]
  },
  {
   "cell_type": "code",
   "execution_count": 15,
   "metadata": {
    "dotnet_interactive": {
     "language": "csharp"
    },
    "polyglot_notebook": {
     "kernelName": "csharp"
    }
   },
   "outputs": [
    {
     "name": "stdout",
     "output_type": "stream",
     "text": [
      "{\n",
      "    \"_id\": \"673bce12cc4959801d24720a\",\n",
      "    \"title\": \"The Hunger Games\",\n",
      "    \"author\": \"Suzanne Collins\",\n",
      "    \"format\": \"Book\",\n",
      "    \"status\": \"available\"\n",
      "}\n",
      "{\n",
      "    \"_id\": \"673bceb8cc4959801d24720b\",\n",
      "    \"format\": \"Audio Book\",\n",
      "    \"title\": \"The Hunger Games\",\n",
      "    \"author\": \"Suzanne Collins\",\n",
      "    \"narrator\": \"Carolyn McCormick\",\n",
      "    \"status\": \"available\"\n",
      "}\n",
      "{\n",
      "    \"_id\": \"med003\",\n",
      "    \"title\": \"Catching Fire\",\n",
      "    \"author\": \"Suzanne Collins\",\n",
      "    \"format\": \"Book\",\n",
      "    \"status\": \"available\"\n",
      "}\n",
      "{\n",
      "    \"_id\": \"673bcf10cc4959801d24720c\",\n",
      "    \"format\": \"Book\",\n",
      "    \"title\": \"Carry On\",\n",
      "    \"author\": \"Rainbow Rowell\",\n",
      "    \"status\": \"available\"\n",
      "}\n",
      "{\n",
      "    \"_id\": \"673bcf10cc4959801d24720d\",\n",
      "    \"format\": \"Book\",\n",
      "    \"title\": \"Inheritance Games\",\n",
      "    \"author\": \"Jennifer Lynn Barnes\",\n",
      "    \"status\": \"available\"\n",
      "}\n",
      "{\n",
      "    \"_id\": \"673bcf10cc4959801d24720e\",\n",
      "    \"format\": \"Audio Book\",\n",
      "    \"title\": \"The Lightning Thief\",\n",
      "    \"author\": \"Rick Riordan\",\n",
      "    \"narrator\": \"Jesse Bernstein\",\n",
      "    \"status\": \"available\"\n",
      "}\n"
     ]
    }
   ],
   "source": [
    "# View documents to verify changes\n",
    "result = collection.find()\n",
    "\n",
    "for document in result: \n",
    "    print(json.dumps(document, indent=4, default=str)) "
   ]
  },
  {
   "cell_type": "markdown",
   "metadata": {},
   "source": [
    "Next we are going to use the update_many() function again, but this time we will be adding in criteria to only update a specific set of records. In the below cell we are going to establish criteria to add a new attribute and value to documents that contain media by Suzanne Collins:"
   ]
  },
  {
   "cell_type": "code",
   "execution_count": 16,
   "metadata": {
    "dotnet_interactive": {
     "language": "csharp"
    },
    "polyglot_notebook": {
     "kernelName": "csharp"
    }
   },
   "outputs": [
    {
     "data": {
      "text/plain": [
       "UpdateResult({'n': 3, 'nModified': 3, 'ok': 1.0, 'updatedExisting': True}, acknowledged=True)"
      ]
     },
     "execution_count": 16,
     "metadata": {},
     "output_type": "execute_result"
    }
   ],
   "source": [
    "# Add series attribute and set value to 'The Hunger Games' using criteria\n",
    "\n",
    "# Set criteria\n",
    "criteria = {'author': 'Suzanne Collins'}\n",
    "\n",
    "# Update documents\n",
    "collection.update_many(criteria,{'$set': {'series': 'The Hunger Games'}})"
   ]
  },
  {
   "cell_type": "code",
   "execution_count": 17,
   "metadata": {
    "dotnet_interactive": {
     "language": "csharp"
    },
    "polyglot_notebook": {
     "kernelName": "csharp"
    }
   },
   "outputs": [
    {
     "name": "stdout",
     "output_type": "stream",
     "text": [
      "{\n",
      "    \"_id\": \"673bce12cc4959801d24720a\",\n",
      "    \"title\": \"The Hunger Games\",\n",
      "    \"author\": \"Suzanne Collins\",\n",
      "    \"format\": \"Book\",\n",
      "    \"status\": \"available\",\n",
      "    \"series\": \"The Hunger Games\"\n",
      "}\n",
      "{\n",
      "    \"_id\": \"673bceb8cc4959801d24720b\",\n",
      "    \"format\": \"Audio Book\",\n",
      "    \"title\": \"The Hunger Games\",\n",
      "    \"author\": \"Suzanne Collins\",\n",
      "    \"narrator\": \"Carolyn McCormick\",\n",
      "    \"status\": \"available\",\n",
      "    \"series\": \"The Hunger Games\"\n",
      "}\n",
      "{\n",
      "    \"_id\": \"med003\",\n",
      "    \"title\": \"Catching Fire\",\n",
      "    \"author\": \"Suzanne Collins\",\n",
      "    \"format\": \"Book\",\n",
      "    \"status\": \"available\",\n",
      "    \"series\": \"The Hunger Games\"\n",
      "}\n",
      "{\n",
      "    \"_id\": \"673bcf10cc4959801d24720c\",\n",
      "    \"format\": \"Book\",\n",
      "    \"title\": \"Carry On\",\n",
      "    \"author\": \"Rainbow Rowell\",\n",
      "    \"status\": \"available\"\n",
      "}\n",
      "{\n",
      "    \"_id\": \"673bcf10cc4959801d24720d\",\n",
      "    \"format\": \"Book\",\n",
      "    \"title\": \"Inheritance Games\",\n",
      "    \"author\": \"Jennifer Lynn Barnes\",\n",
      "    \"status\": \"available\"\n",
      "}\n",
      "{\n",
      "    \"_id\": \"673bcf10cc4959801d24720e\",\n",
      "    \"format\": \"Audio Book\",\n",
      "    \"title\": \"The Lightning Thief\",\n",
      "    \"author\": \"Rick Riordan\",\n",
      "    \"narrator\": \"Jesse Bernstein\",\n",
      "    \"status\": \"available\"\n",
      "}\n"
     ]
    }
   ],
   "source": [
    "# View documents to verify changes\n",
    "result = collection.find()\n",
    "\n",
    "for document in result: \n",
    "    print(json.dumps(document, indent=4, default=str)) "
   ]
  },
  {
   "cell_type": "markdown",
   "metadata": {},
   "source": [
    "Delete operations work very similar to update operations. We have the option to delete_one() or delete_many(), and just like update operations, our delete operations require criteria. To start, let's delete a record using delete_one() and specific criteria that will only return one document, like an _id."
   ]
  },
  {
   "cell_type": "code",
   "execution_count": 18,
   "metadata": {
    "dotnet_interactive": {
     "language": "csharp"
    },
    "polyglot_notebook": {
     "kernelName": "csharp"
    }
   },
   "outputs": [
    {
     "data": {
      "text/plain": [
       "DeleteResult({'n': 1, 'ok': 1.0}, acknowledged=True)"
      ]
     },
     "execution_count": 18,
     "metadata": {},
     "output_type": "execute_result"
    }
   ],
   "source": [
    "# Use delete_one() with an _id value to delete a singe document\n",
    "\n",
    "#Establish criteria \n",
    "criteria = {'_id': 'med003'}\n",
    "\n",
    "# Perform the delete operation\n",
    "collection.delete_one(criteria)"
   ]
  },
  {
   "cell_type": "code",
   "execution_count": 19,
   "metadata": {
    "dotnet_interactive": {
     "language": "csharp"
    },
    "polyglot_notebook": {
     "kernelName": "csharp"
    }
   },
   "outputs": [
    {
     "name": "stdout",
     "output_type": "stream",
     "text": [
      "{\n",
      "    \"_id\": \"673bce12cc4959801d24720a\",\n",
      "    \"title\": \"The Hunger Games\",\n",
      "    \"author\": \"Suzanne Collins\",\n",
      "    \"format\": \"Book\",\n",
      "    \"status\": \"available\",\n",
      "    \"series\": \"The Hunger Games\"\n",
      "}\n",
      "{\n",
      "    \"_id\": \"673bceb8cc4959801d24720b\",\n",
      "    \"format\": \"Audio Book\",\n",
      "    \"title\": \"The Hunger Games\",\n",
      "    \"author\": \"Suzanne Collins\",\n",
      "    \"narrator\": \"Carolyn McCormick\",\n",
      "    \"status\": \"available\",\n",
      "    \"series\": \"The Hunger Games\"\n",
      "}\n",
      "{\n",
      "    \"_id\": \"673bcf10cc4959801d24720c\",\n",
      "    \"format\": \"Book\",\n",
      "    \"title\": \"Carry On\",\n",
      "    \"author\": \"Rainbow Rowell\",\n",
      "    \"status\": \"available\"\n",
      "}\n",
      "{\n",
      "    \"_id\": \"673bcf10cc4959801d24720d\",\n",
      "    \"format\": \"Book\",\n",
      "    \"title\": \"Inheritance Games\",\n",
      "    \"author\": \"Jennifer Lynn Barnes\",\n",
      "    \"status\": \"available\"\n",
      "}\n",
      "{\n",
      "    \"_id\": \"673bcf10cc4959801d24720e\",\n",
      "    \"format\": \"Audio Book\",\n",
      "    \"title\": \"The Lightning Thief\",\n",
      "    \"author\": \"Rick Riordan\",\n",
      "    \"narrator\": \"Jesse Bernstein\",\n",
      "    \"status\": \"available\"\n",
      "}\n"
     ]
    }
   ],
   "source": [
    "# View documents to verify changes\n",
    "result = collection.find()\n",
    "\n",
    "for document in result: \n",
    "    print(json.dumps(document, indent=4, default=str)) "
   ]
  },
  {
   "cell_type": "markdown",
   "metadata": {},
   "source": [
    "The output for the delete operation provides an important piece of information 'n' refers to the number of deletions that occurred. We know that our deletion worked as intended because we see that 'n' is 1. We can further validate this by viewing the output above. Next we will delete_many() documents by specifying criteria:"
   ]
  },
  {
   "cell_type": "code",
   "execution_count": 20,
   "metadata": {
    "dotnet_interactive": {
     "language": "csharp"
    },
    "polyglot_notebook": {
     "kernelName": "csharp"
    }
   },
   "outputs": [
    {
     "data": {
      "text/plain": [
       "DeleteResult({'n': 2, 'ok': 1.0}, acknowledged=True)"
      ]
     },
     "execution_count": 20,
     "metadata": {},
     "output_type": "execute_result"
    }
   ],
   "source": [
    "# Delete all documents that are part of The Hunger Games series\n",
    "\n",
    "# Establish criteria\n",
    "criteria = {'series': 'The Hunger Games'}\n",
    "\n",
    "# Perform Delete Operation\n",
    "collection.delete_many(criteria)"
   ]
  },
  {
   "cell_type": "code",
   "execution_count": 39,
   "metadata": {
    "dotnet_interactive": {
     "language": "csharp"
    },
    "polyglot_notebook": {
     "kernelName": "csharp"
    }
   },
   "outputs": [],
   "source": [
    "# View documents to verify changes\n",
    "result = collection.find()\n",
    "\n",
    "for document in result: \n",
    "    print(json.dumps(document, indent=4, default=str)) "
   ]
  },
  {
   "cell_type": "markdown",
   "metadata": {},
   "source": [
    "We can verify our deletion be seeing that 'n' is 2 in the deletion output and reviewing the output of the find() operation above. Finally, we can delete all documents in a collection by passing empty criteria into the delete_many() function:"
   ]
  },
  {
   "cell_type": "code",
   "execution_count": 32,
   "metadata": {
    "dotnet_interactive": {
     "language": "csharp"
    },
    "polyglot_notebook": {
     "kernelName": "csharp"
    }
   },
   "outputs": [
    {
     "data": {
      "text/plain": [
       "DeleteResult({'n': 0, 'ok': 1.0}, acknowledged=True)"
      ]
     },
     "execution_count": 32,
     "metadata": {},
     "output_type": "execute_result"
    }
   ],
   "source": [
    "# Delete all records from the media collection\n",
    "collection.delete_many({})"
   ]
  },
  {
   "cell_type": "code",
   "execution_count": 46,
   "metadata": {
    "dotnet_interactive": {
     "language": "csharp"
    },
    "polyglot_notebook": {
     "kernelName": "csharp"
    }
   },
   "outputs": [
    {
     "name": "stdout",
     "output_type": "stream",
     "text": [
      "{\n",
      "    \"_id\": \"pr_001\",\n",
      "    \"name\": \"Organic Bananas\",\n",
      "    \"category\": \"Grocery\",\n",
      "    \"price\": 0.99,\n",
      "    \"unit\": \"lb\",\n",
      "    \"brand\": \"Nature's Promise\",\n",
      "    \"expiry_date\": \"2024-07-20\",\n",
      "    \"quantity\": 10\n",
      "}\n",
      "{\n",
      "    \"_id\": \"pr_002\",\n",
      "    \"name\": \"Cotton Bed Sheets\",\n",
      "    \"category\": \"Home Goods\",\n",
      "    \"price\": 49.99,\n",
      "    \"size\": \"Queen\",\n",
      "    \"material\": \"100% Cotton\",\n",
      "    \"brand\": \"Home Comfort\",\n",
      "    \"color\": \"White\",\n",
      "    \"quantity\": 10\n",
      "}\n",
      "{\n",
      "    \"_id\": \"pr_003\",\n",
      "    \"name\": \"Wireless Bluetooth Headphones\",\n",
      "    \"category\": \"Electronics\",\n",
      "    \"price\": 199.99,\n",
      "    \"brand\": \"TechWave\",\n",
      "    \"model\": \"TW-1000\",\n",
      "    \"battery_life\": \"20 hours\",\n",
      "    \"warranty\": \"1 year\",\n",
      "    \"quantity\": 10\n",
      "}\n",
      "{\n",
      "    \"_id\": \"pr_004\",\n",
      "    \"name\": \"Grilled Chicken Sandwich\",\n",
      "    \"category\": \"Freshly Cooked\",\n",
      "    \"price\": 7.99,\n",
      "    \"ingredients\": [\n",
      "        \"Chicken Breast\",\n",
      "        \"Lettuce\",\n",
      "        \"Tomato\",\n",
      "        \"Whole Wheat Bun\",\n",
      "        \"Mayo\"\n",
      "    ],\n",
      "    \"calories\": 500,\n",
      "    \"preparation_time\": \"15 minutes\",\n",
      "    \"expiry_date\": \"2024-07-11\",\n",
      "    \"quantity\": 10\n",
      "}\n"
     ]
    }
   ],
   "source": [
    "# View documents to verify changes\n",
    "result = collection.find()\n",
    "\n",
    "for document in result: \n",
    "    print(json.dumps(document, indent=4, default=str)) "
   ]
  },
  {
   "cell_type": "markdown",
   "metadata": {},
   "source": [
    "### **Exercises**\n",
    "\n",
    "1. Create a new database named 'super_store'."
   ]
  },
  {
   "cell_type": "code",
   "execution_count": 44,
   "metadata": {
    "dotnet_interactive": {
     "language": "csharp"
    },
    "polyglot_notebook": {
     "kernelName": "csharp"
    }
   },
   "outputs": [],
   "source": [
    "# Set up database\n",
    "db = client['super_store']"
   ]
  },
  {
   "cell_type": "markdown",
   "metadata": {},
   "source": [
    "2. Create a new collection named 'product'."
   ]
  },
  {
   "cell_type": "code",
   "execution_count": 47,
   "metadata": {
    "dotnet_interactive": {
     "language": "csharp"
    },
    "polyglot_notebook": {
     "kernelName": "csharp"
    }
   },
   "outputs": [],
   "source": [
    "# specify database\n",
    "db = client['super_store']\n",
    "# create a collection\n",
    "collection = db['product']"
   ]
  },
  {
   "cell_type": "markdown",
   "metadata": {},
   "source": [
    "3. Add the following documents to your product collection by passing them in as a list."
   ]
  },
  {
   "cell_type": "code",
   "execution_count": 49,
   "metadata": {
    "dotnet_interactive": {
     "language": "csharp"
    },
    "polyglot_notebook": {
     "kernelName": "csharp"
    }
   },
   "outputs": [
    {
     "data": {
      "text/plain": [
       "InsertManyResult(['pr_001', 'pr_002', 'pr_003', 'pr_004'], acknowledged=True)"
      ]
     },
     "execution_count": 49,
     "metadata": {},
     "output_type": "execute_result"
    }
   ],
   "source": [
    "document_1 = {\n",
    "    \"_id\": \"pr_001\",\n",
    "    \"name\": \"Organic Bananas\",\n",
    "    \"category\": \"Grocery\",\n",
    "    \"price\": 0.99,\n",
    "    \"unit\": \"lb\",\n",
    "    \"brand\": \"Nature's Promise\",\n",
    "    \"expiry_date\": \"2024-07-20\"\n",
    "}\n",
    "\n",
    "document_2 = {\n",
    "    \"_id\": \"pr_002\",\n",
    "    \"name\": \"Cotton Bed Sheets\",\n",
    "    \"category\": \"Home Goods\",\n",
    "    \"price\": 49.99,\n",
    "    \"size\": \"Queen\",\n",
    "    \"material\": \"100% Cotton\",\n",
    "    \"brand\": \"Home Comfort\",\n",
    "    \"color\": \"White\"\n",
    "}\n",
    "\n",
    "document_3 = {\n",
    "    \"_id\": \"pr_003\",\n",
    "    \"name\": \"Wireless Bluetooth Headphones\",\n",
    "    \"category\": \"Electronics\",\n",
    "    \"price\": 199.99,\n",
    "    \"brand\": \"TechWave\",\n",
    "    \"model\": \"TW-1000\",\n",
    "    \"battery_life\": \"20 hours\",\n",
    "    \"warranty\": \"1 year\"\n",
    "}\n",
    "\n",
    "document_4 = {\n",
    "    \"_id\": \"pr_004\",\n",
    "    \"name\": \"Grilled Chicken Sandwich\",\n",
    "    \"category\": \"Freshly Cooked\",\n",
    "    \"price\": 7.99,\n",
    "    \"ingredients\": [\"Chicken Breast\", \"Lettuce\", \"Tomato\", \"Whole Wheat Bun\", \"Mayo\"],\n",
    "    \"calories\": 500,\n",
    "    \"preparation_time\": \"15 minutes\",\n",
    "    \"expiry_date\": \"2024-07-11\"\n",
    "}\n",
    "\n",
    "doc_list = [document_1, document_2, document_3, document_4]\n",
    "\n",
    "\n",
    "collection.insert_many(doc_list)\n"
   ]
  },
  {
   "cell_type": "markdown",
   "metadata": {},
   "source": [
    "4. Update all products to have a new field called quantity. Default this value to 10."
   ]
  },
  {
   "cell_type": "code",
   "execution_count": 50,
   "metadata": {
    "dotnet_interactive": {
     "language": "csharp"
    },
    "polyglot_notebook": {
     "kernelName": "csharp"
    }
   },
   "outputs": [
    {
     "data": {
      "text/plain": [
       "UpdateResult({'n': 4, 'nModified': 4, 'ok': 1.0, 'updatedExisting': True}, acknowledged=True)"
      ]
     },
     "execution_count": 50,
     "metadata": {},
     "output_type": "execute_result"
    }
   ],
   "source": [
    "# Your code here\n",
    "collection.update_many(\n",
    "    {}, \n",
    "    {\"$set\": {\"quantity\": 10}} \n",
    ")"
   ]
  },
  {
   "cell_type": "markdown",
   "metadata": {},
   "source": [
    "### **Scenario**\n",
    "\n",
    "For the scenario exercise, make a database called 'video_game'\n",
    "* Create a collection called 'platform'\n",
    "* Create a collection called 'title'\n",
    "* Add the provided documents to each collection respectively\n",
    "* Update the title document with id t_004 to have a price of $39.99\n",
    "* Update all titles for Nintendo Switch to have a type attribute with the value 'cartridge'\n",
    "* Delete the platform document with name 'Nintendo 64'\n",
    "* Delete all titles with a genre of 'RPG' and a price of less than $20.00"
   ]
  },
  {
   "cell_type": "code",
   "execution_count": 52,
   "metadata": {
    "dotnet_interactive": {
     "language": "csharp"
    },
    "polyglot_notebook": {
     "kernelName": "csharp"
    }
   },
   "outputs": [
    {
     "data": {
      "text/plain": [
       "DeleteResult({'n': 0, 'ok': 1.0}, acknowledged=True)"
      ]
     },
     "execution_count": 52,
     "metadata": {},
     "output_type": "execute_result"
    }
   ],
   "source": [
    "db = client['video_game']\n",
    "title_list = db['title']\n",
    "platform_list = db['platform']\n",
    "\n",
    "# Platform docs\n",
    "document_1 = {\n",
    "    \"_id\": \"p_001\",\n",
    "    \"name\": \"PlayStation 5\",\n",
    "    \"manufacturer\": \"Sony\",\n",
    "    \"release_year\": 2020,\n",
    "    \"type\": \"console\"\n",
    "}\n",
    "\n",
    "document_2 = {\n",
    "    \"_id\": \"p_002\",\n",
    "    \"name\": \"Xbox Series X\",\n",
    "    \"manufacturer\": \"Microsoft\",\n",
    "    \"release_year\": 2020,\n",
    "    \"type\": \"console\"\n",
    "}\n",
    "\n",
    "document_3 = {\n",
    "    \"_id\": \"p_003\",\n",
    "    \"name\": \"Nintendo Switch\",\n",
    "    \"manufacturer\": \"Nintendo\",\n",
    "    \"release_year\": 2017,\n",
    "    \"type\": \"handheld\"\n",
    "}\n",
    "\n",
    "document_4 = {\n",
    "    \"_id\": \"p_004\",\n",
    "    \"name\": \"PlayStation 4\",\n",
    "    \"manufacturer\": \"Sony\",\n",
    "    \"release_year\": 2013,\n",
    "    \"type\": \"console\"\n",
    "}\n",
    "\n",
    "document_5 = {\n",
    "    \"_id\": \"p_005\",\n",
    "    \"name\": \"Xbox One\",\n",
    "    \"manufacturer\": \"Microsoft\",\n",
    "    \"release_year\": 2013,\n",
    "    \"type\": \"console\"\n",
    "}\n",
    "\n",
    "document_6 = {\n",
    "    \"_id\": \"p_006\",\n",
    "    \"name\": \"Nintendo 64\",\n",
    "    \"manufacturer\": \"Nintendo\",\n",
    "    \"release_year\": 1996,\n",
    "    \"type\": \"console\"\n",
    "}\n",
    "\n",
    "document_7 = {\n",
    "    \"_id\": \"p_007\",\n",
    "    \"name\": \"PC\",\n",
    "    \"manufacturer\": \"Various\",\n",
    "    \"release_year\": None,\n",
    "    \"type\": \"computer\"\n",
    "}\n",
    "\n",
    "document_8 = {\n",
    "    \"_id\": \"p_008\",\n",
    "    \"name\": \"PlayStation Vita\",\n",
    "    \"manufacturer\": \"Sony\",\n",
    "    \"release_year\": 2011,\n",
    "    \"type\": \"handheld\"\n",
    "}\n",
    "\n",
    "platform_docs = [document_1, document_2, document_3, document_4, document_5, document_6, document_7, document_8]\n",
    "platform_list.insert_many(platform_docs)\n",
    "\n",
    "# Title documents\n",
    "document_9 = {\n",
    "    \"_id\": \"t_001\",\n",
    "    \"name\": \"The Legend of Zelda: Breath of the Wild\",\n",
    "    \"platform_id\": \"p_003\",\n",
    "    \"genre\": \"Adventure\",\n",
    "    \"price\": 59.99\n",
    "}\n",
    "\n",
    "document_10 = {\n",
    "    \"_id\": \"t_002\",\n",
    "    \"name\": \"Animal Crossing: New Horizons\",\n",
    "    \"platform_id\": \"p_003\",\n",
    "    \"genre\": \"Simulation\",\n",
    "    \"price\": 49.99\n",
    "}\n",
    "\n",
    "document_11 = {\n",
    "    \"_id\": \"t_003\",\n",
    "    \"name\": \"Halo Infinite\",\n",
    "    \"platform_id\": \"p_002\",\n",
    "    \"genre\": \"FPS\",\n",
    "    \"price\": 59.99\n",
    "}\n",
    "\n",
    "document_12 = {\n",
    "    \"_id\": \"t_004\",\n",
    "    \"name\": \"Final Fantasy VII Remake\",\n",
    "    \"platform_id\": \"p_001\",\n",
    "    \"genre\": \"RPG\",\n",
    "    \"price\": 69.99\n",
    "}\n",
    "\n",
    "document_13 = {\n",
    "    \"_id\": \"t_005\",\n",
    "    \"name\": \"Cyberpunk 2077\",\n",
    "    \"platform_id\": \"p_007\",\n",
    "    \"genre\": \"RPG\",\n",
    "    \"price\": 29.99\n",
    "}\n",
    "\n",
    "document_14 = {\n",
    "    \"_id\": \"t_006\",\n",
    "    \"name\": \"Super Mario Odyssey\",\n",
    "    \"platform_id\": \"p_003\",\n",
    "    \"genre\": \"Platformer\",\n",
    "    \"price\": 59.99\n",
    "}\n",
    "\n",
    "document_15 = {\n",
    "    \"_id\": \"t_007\",\n",
    "    \"name\": \"The Last of Us Part II\",\n",
    "    \"platform_id\": \"p_004\",\n",
    "    \"genre\": \"Action\",\n",
    "    \"price\": 39.99\n",
    "}\n",
    "\n",
    "document_16 = {\n",
    "    \"_id\": \"t_008\",\n",
    "    \"name\": \"Red Dead Redemption 2\",\n",
    "    \"platform_id\": \"p_001\",\n",
    "    \"genre\": \"Adventure\",\n",
    "    \"price\": 59.99\n",
    "}\n",
    "\n",
    "document_17 = {\n",
    "    \"_id\": \"t_009\",\n",
    "    \"name\": \"Call of Duty: Warzone\",\n",
    "    \"platform_id\": \"p_005\",\n",
    "    \"genre\": \"FPS\",\n",
    "    \"price\": 0.00\n",
    "}\n",
    "\n",
    "document_18 = {\n",
    "    \"_id\": \"t_010\",\n",
    "    \"name\": \"Stardew Valley\",\n",
    "    \"platform_id\": \"p_003\",\n",
    "    \"genre\": \"Simulation\",\n",
    "    \"price\": 14.99\n",
    "}\n",
    "\n",
    "document_19 = {\n",
    "    \"_id\": \"t_011\",\n",
    "    \"name\": \"Among Us\",\n",
    "    \"platform_id\": \"p_007\",\n",
    "    \"genre\": \"Party\",\n",
    "    \"price\": 4.99\n",
    "}\n",
    "\n",
    "document_20 = {\n",
    "    \"_id\": \"t_012\",\n",
    "    \"name\": \"Minecraft\",\n",
    "    \"platform_id\": \"p_007\",\n",
    "    \"genre\": \"Sandbox\",\n",
    "    \"price\": 26.95\n",
    "}\n",
    "\n",
    "title_docs = [document_9, document_10, document_11, document_12, document_13, document_14, document_15, document_16, document_17, document_18, document_19, document_20]\n",
    "title_list.insert_many(title_docs)\n",
    "\n",
    "# Update operations\n",
    "title_list.update_one({\"_id\": \"t_004\"}, {\"$set\": {\"price\": 39.99}})\n",
    "title_list.update_many({\"platform_id\": \"p_003\"}, {\"$set\": {\"type\": \"cartridge\"}})\n",
    "\n",
    "# Delete operations\n",
    "platform_list.delete_one({\"name\": \"Nintendo 64\"})\n",
    "title_list.delete_many({\"genre\": \"RPG\", \"price\": {\"$lt\": 20.00}})\n"
   ]
  }
 ],
 "metadata": {
  "kernelspec": {
   "display_name": "Python 3",
   "language": "python",
   "name": "python3"
  },
  "language_info": {
   "codemirror_mode": {
    "name": "ipython",
    "version": 3
   },
   "file_extension": ".py",
   "mimetype": "text/x-python",
   "name": "python",
   "nbconvert_exporter": "python",
   "pygments_lexer": "ipython3",
   "version": "3.13.0"
  },
  "polyglot_notebook": {
   "kernelInfo": {
    "defaultKernelName": "csharp",
    "items": [
     {
      "aliases": [],
      "name": "csharp"
     }
    ]
   }
  }
 },
 "nbformat": 4,
 "nbformat_minor": 2
}
